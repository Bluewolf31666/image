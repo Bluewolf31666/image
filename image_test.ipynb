{
 "cells": [
  {
   "cell_type": "code",
   "execution_count": 23,
   "metadata": {},
   "outputs": [
    {
     "ename": "NameError",
     "evalue": "name 'drawing' is not defined",
     "output_type": "error",
     "traceback": [
      "\u001b[1;31m---------------------------------------------------------------------------\u001b[0m",
      "\u001b[1;31mNameError\u001b[0m                                 Traceback (most recent call last)",
      "Cell \u001b[1;32mIn[23], line 15\u001b[0m, in \u001b[0;36mdraw_roi\u001b[1;34m(event, x, y, flags, params)\u001b[0m\n\u001b[0;32m     13\u001b[0m \u001b[39m# 마우스 이동 중\u001b[39;00m\n\u001b[0;32m     14\u001b[0m \u001b[39melif\u001b[39;00m event \u001b[39m==\u001b[39m cv2\u001b[39m.\u001b[39mEVENT_MOUSEMOVE:\n\u001b[1;32m---> 15\u001b[0m     \u001b[39mif\u001b[39;00m drawing:\n\u001b[0;32m     16\u001b[0m         top_left_pt, bottom_right_pt \u001b[39m=\u001b[39m (x_init, y_init), (x, y)\n\u001b[0;32m     17\u001b[0m         \u001b[39m# 사각형 그리기\u001b[39;00m\n",
      "\u001b[1;31mNameError\u001b[0m: name 'drawing' is not defined"
     ]
    },
    {
     "ename": "NameError",
     "evalue": "name 'drawing' is not defined",
     "output_type": "error",
     "traceback": [
      "\u001b[1;31m---------------------------------------------------------------------------\u001b[0m",
      "\u001b[1;31mNameError\u001b[0m                                 Traceback (most recent call last)",
      "Cell \u001b[1;32mIn[23], line 15\u001b[0m, in \u001b[0;36mdraw_roi\u001b[1;34m(event, x, y, flags, params)\u001b[0m\n\u001b[0;32m     13\u001b[0m \u001b[39m# 마우스 이동 중\u001b[39;00m\n\u001b[0;32m     14\u001b[0m \u001b[39melif\u001b[39;00m event \u001b[39m==\u001b[39m cv2\u001b[39m.\u001b[39mEVENT_MOUSEMOVE:\n\u001b[1;32m---> 15\u001b[0m     \u001b[39mif\u001b[39;00m drawing:\n\u001b[0;32m     16\u001b[0m         top_left_pt, bottom_right_pt \u001b[39m=\u001b[39m (x_init, y_init), (x, y)\n\u001b[0;32m     17\u001b[0m         \u001b[39m# 사각형 그리기\u001b[39;00m\n",
      "\u001b[1;31mNameError\u001b[0m: name 'drawing' is not defined"
     ]
    },
    {
     "ename": "NameError",
     "evalue": "name 'drawing' is not defined",
     "output_type": "error",
     "traceback": [
      "\u001b[1;31m---------------------------------------------------------------------------\u001b[0m",
      "\u001b[1;31mNameError\u001b[0m                                 Traceback (most recent call last)",
      "Cell \u001b[1;32mIn[23], line 15\u001b[0m, in \u001b[0;36mdraw_roi\u001b[1;34m(event, x, y, flags, params)\u001b[0m\n\u001b[0;32m     13\u001b[0m \u001b[39m# 마우스 이동 중\u001b[39;00m\n\u001b[0;32m     14\u001b[0m \u001b[39melif\u001b[39;00m event \u001b[39m==\u001b[39m cv2\u001b[39m.\u001b[39mEVENT_MOUSEMOVE:\n\u001b[1;32m---> 15\u001b[0m     \u001b[39mif\u001b[39;00m drawing:\n\u001b[0;32m     16\u001b[0m         top_left_pt, bottom_right_pt \u001b[39m=\u001b[39m (x_init, y_init), (x, y)\n\u001b[0;32m     17\u001b[0m         \u001b[39m# 사각형 그리기\u001b[39;00m\n",
      "\u001b[1;31mNameError\u001b[0m: name 'drawing' is not defined"
     ]
    },
    {
     "ename": "NameError",
     "evalue": "name 'drawing' is not defined",
     "output_type": "error",
     "traceback": [
      "\u001b[1;31m---------------------------------------------------------------------------\u001b[0m",
      "\u001b[1;31mNameError\u001b[0m                                 Traceback (most recent call last)",
      "Cell \u001b[1;32mIn[23], line 15\u001b[0m, in \u001b[0;36mdraw_roi\u001b[1;34m(event, x, y, flags, params)\u001b[0m\n\u001b[0;32m     13\u001b[0m \u001b[39m# 마우스 이동 중\u001b[39;00m\n\u001b[0;32m     14\u001b[0m \u001b[39melif\u001b[39;00m event \u001b[39m==\u001b[39m cv2\u001b[39m.\u001b[39mEVENT_MOUSEMOVE:\n\u001b[1;32m---> 15\u001b[0m     \u001b[39mif\u001b[39;00m drawing:\n\u001b[0;32m     16\u001b[0m         top_left_pt, bottom_right_pt \u001b[39m=\u001b[39m (x_init, y_init), (x, y)\n\u001b[0;32m     17\u001b[0m         \u001b[39m# 사각형 그리기\u001b[39;00m\n",
      "\u001b[1;31mNameError\u001b[0m: name 'drawing' is not defined"
     ]
    },
    {
     "ename": "NameError",
     "evalue": "name 'drawing' is not defined",
     "output_type": "error",
     "traceback": [
      "\u001b[1;31m---------------------------------------------------------------------------\u001b[0m",
      "\u001b[1;31mNameError\u001b[0m                                 Traceback (most recent call last)",
      "Cell \u001b[1;32mIn[23], line 15\u001b[0m, in \u001b[0;36mdraw_roi\u001b[1;34m(event, x, y, flags, params)\u001b[0m\n\u001b[0;32m     13\u001b[0m \u001b[39m# 마우스 이동 중\u001b[39;00m\n\u001b[0;32m     14\u001b[0m \u001b[39melif\u001b[39;00m event \u001b[39m==\u001b[39m cv2\u001b[39m.\u001b[39mEVENT_MOUSEMOVE:\n\u001b[1;32m---> 15\u001b[0m     \u001b[39mif\u001b[39;00m drawing:\n\u001b[0;32m     16\u001b[0m         top_left_pt, bottom_right_pt \u001b[39m=\u001b[39m (x_init, y_init), (x, y)\n\u001b[0;32m     17\u001b[0m         \u001b[39m# 사각형 그리기\u001b[39;00m\n",
      "\u001b[1;31mNameError\u001b[0m: name 'drawing' is not defined"
     ]
    },
    {
     "ename": "NameError",
     "evalue": "name 'drawing' is not defined",
     "output_type": "error",
     "traceback": [
      "\u001b[1;31m---------------------------------------------------------------------------\u001b[0m",
      "\u001b[1;31mNameError\u001b[0m                                 Traceback (most recent call last)",
      "Cell \u001b[1;32mIn[23], line 15\u001b[0m, in \u001b[0;36mdraw_roi\u001b[1;34m(event, x, y, flags, params)\u001b[0m\n\u001b[0;32m     13\u001b[0m \u001b[39m# 마우스 이동 중\u001b[39;00m\n\u001b[0;32m     14\u001b[0m \u001b[39melif\u001b[39;00m event \u001b[39m==\u001b[39m cv2\u001b[39m.\u001b[39mEVENT_MOUSEMOVE:\n\u001b[1;32m---> 15\u001b[0m     \u001b[39mif\u001b[39;00m drawing:\n\u001b[0;32m     16\u001b[0m         top_left_pt, bottom_right_pt \u001b[39m=\u001b[39m (x_init, y_init), (x, y)\n\u001b[0;32m     17\u001b[0m         \u001b[39m# 사각형 그리기\u001b[39;00m\n",
      "\u001b[1;31mNameError\u001b[0m: name 'drawing' is not defined"
     ]
    },
    {
     "ename": "NameError",
     "evalue": "name 'drawing' is not defined",
     "output_type": "error",
     "traceback": [
      "\u001b[1;31m---------------------------------------------------------------------------\u001b[0m",
      "\u001b[1;31mNameError\u001b[0m                                 Traceback (most recent call last)",
      "Cell \u001b[1;32mIn[23], line 15\u001b[0m, in \u001b[0;36mdraw_roi\u001b[1;34m(event, x, y, flags, params)\u001b[0m\n\u001b[0;32m     13\u001b[0m \u001b[39m# 마우스 이동 중\u001b[39;00m\n\u001b[0;32m     14\u001b[0m \u001b[39melif\u001b[39;00m event \u001b[39m==\u001b[39m cv2\u001b[39m.\u001b[39mEVENT_MOUSEMOVE:\n\u001b[1;32m---> 15\u001b[0m     \u001b[39mif\u001b[39;00m drawing:\n\u001b[0;32m     16\u001b[0m         top_left_pt, bottom_right_pt \u001b[39m=\u001b[39m (x_init, y_init), (x, y)\n\u001b[0;32m     17\u001b[0m         \u001b[39m# 사각형 그리기\u001b[39;00m\n",
      "\u001b[1;31mNameError\u001b[0m: name 'drawing' is not defined"
     ]
    },
    {
     "ename": "NameError",
     "evalue": "name 'drawing' is not defined",
     "output_type": "error",
     "traceback": [
      "\u001b[1;31m---------------------------------------------------------------------------\u001b[0m",
      "\u001b[1;31mNameError\u001b[0m                                 Traceback (most recent call last)",
      "Cell \u001b[1;32mIn[23], line 15\u001b[0m, in \u001b[0;36mdraw_roi\u001b[1;34m(event, x, y, flags, params)\u001b[0m\n\u001b[0;32m     13\u001b[0m \u001b[39m# 마우스 이동 중\u001b[39;00m\n\u001b[0;32m     14\u001b[0m \u001b[39melif\u001b[39;00m event \u001b[39m==\u001b[39m cv2\u001b[39m.\u001b[39mEVENT_MOUSEMOVE:\n\u001b[1;32m---> 15\u001b[0m     \u001b[39mif\u001b[39;00m drawing:\n\u001b[0;32m     16\u001b[0m         top_left_pt, bottom_right_pt \u001b[39m=\u001b[39m (x_init, y_init), (x, y)\n\u001b[0;32m     17\u001b[0m         \u001b[39m# 사각형 그리기\u001b[39;00m\n",
      "\u001b[1;31mNameError\u001b[0m: name 'drawing' is not defined"
     ]
    },
    {
     "ename": "NameError",
     "evalue": "name 'drawing' is not defined",
     "output_type": "error",
     "traceback": [
      "\u001b[1;31m---------------------------------------------------------------------------\u001b[0m",
      "\u001b[1;31mNameError\u001b[0m                                 Traceback (most recent call last)",
      "Cell \u001b[1;32mIn[23], line 15\u001b[0m, in \u001b[0;36mdraw_roi\u001b[1;34m(event, x, y, flags, params)\u001b[0m\n\u001b[0;32m     13\u001b[0m \u001b[39m# 마우스 이동 중\u001b[39;00m\n\u001b[0;32m     14\u001b[0m \u001b[39melif\u001b[39;00m event \u001b[39m==\u001b[39m cv2\u001b[39m.\u001b[39mEVENT_MOUSEMOVE:\n\u001b[1;32m---> 15\u001b[0m     \u001b[39mif\u001b[39;00m drawing:\n\u001b[0;32m     16\u001b[0m         top_left_pt, bottom_right_pt \u001b[39m=\u001b[39m (x_init, y_init), (x, y)\n\u001b[0;32m     17\u001b[0m         \u001b[39m# 사각형 그리기\u001b[39;00m\n",
      "\u001b[1;31mNameError\u001b[0m: name 'drawing' is not defined"
     ]
    },
    {
     "ename": "NameError",
     "evalue": "name 'drawing' is not defined",
     "output_type": "error",
     "traceback": [
      "\u001b[1;31m---------------------------------------------------------------------------\u001b[0m",
      "\u001b[1;31mNameError\u001b[0m                                 Traceback (most recent call last)",
      "Cell \u001b[1;32mIn[23], line 15\u001b[0m, in \u001b[0;36mdraw_roi\u001b[1;34m(event, x, y, flags, params)\u001b[0m\n\u001b[0;32m     13\u001b[0m \u001b[39m# 마우스 이동 중\u001b[39;00m\n\u001b[0;32m     14\u001b[0m \u001b[39melif\u001b[39;00m event \u001b[39m==\u001b[39m cv2\u001b[39m.\u001b[39mEVENT_MOUSEMOVE:\n\u001b[1;32m---> 15\u001b[0m     \u001b[39mif\u001b[39;00m drawing:\n\u001b[0;32m     16\u001b[0m         top_left_pt, bottom_right_pt \u001b[39m=\u001b[39m (x_init, y_init), (x, y)\n\u001b[0;32m     17\u001b[0m         \u001b[39m# 사각형 그리기\u001b[39;00m\n",
      "\u001b[1;31mNameError\u001b[0m: name 'drawing' is not defined"
     ]
    },
    {
     "ename": "NameError",
     "evalue": "name 'drawing' is not defined",
     "output_type": "error",
     "traceback": [
      "\u001b[1;31m---------------------------------------------------------------------------\u001b[0m",
      "\u001b[1;31mNameError\u001b[0m                                 Traceback (most recent call last)",
      "Cell \u001b[1;32mIn[23], line 15\u001b[0m, in \u001b[0;36mdraw_roi\u001b[1;34m(event, x, y, flags, params)\u001b[0m\n\u001b[0;32m     13\u001b[0m \u001b[39m# 마우스 이동 중\u001b[39;00m\n\u001b[0;32m     14\u001b[0m \u001b[39melif\u001b[39;00m event \u001b[39m==\u001b[39m cv2\u001b[39m.\u001b[39mEVENT_MOUSEMOVE:\n\u001b[1;32m---> 15\u001b[0m     \u001b[39mif\u001b[39;00m drawing:\n\u001b[0;32m     16\u001b[0m         top_left_pt, bottom_right_pt \u001b[39m=\u001b[39m (x_init, y_init), (x, y)\n\u001b[0;32m     17\u001b[0m         \u001b[39m# 사각형 그리기\u001b[39;00m\n",
      "\u001b[1;31mNameError\u001b[0m: name 'drawing' is not defined"
     ]
    },
    {
     "ename": "NameError",
     "evalue": "name 'drawing' is not defined",
     "output_type": "error",
     "traceback": [
      "\u001b[1;31m---------------------------------------------------------------------------\u001b[0m",
      "\u001b[1;31mNameError\u001b[0m                                 Traceback (most recent call last)",
      "Cell \u001b[1;32mIn[23], line 15\u001b[0m, in \u001b[0;36mdraw_roi\u001b[1;34m(event, x, y, flags, params)\u001b[0m\n\u001b[0;32m     13\u001b[0m \u001b[39m# 마우스 이동 중\u001b[39;00m\n\u001b[0;32m     14\u001b[0m \u001b[39melif\u001b[39;00m event \u001b[39m==\u001b[39m cv2\u001b[39m.\u001b[39mEVENT_MOUSEMOVE:\n\u001b[1;32m---> 15\u001b[0m     \u001b[39mif\u001b[39;00m drawing:\n\u001b[0;32m     16\u001b[0m         top_left_pt, bottom_right_pt \u001b[39m=\u001b[39m (x_init, y_init), (x, y)\n\u001b[0;32m     17\u001b[0m         \u001b[39m# 사각형 그리기\u001b[39;00m\n",
      "\u001b[1;31mNameError\u001b[0m: name 'drawing' is not defined"
     ]
    },
    {
     "ename": "NameError",
     "evalue": "name 'drawing' is not defined",
     "output_type": "error",
     "traceback": [
      "\u001b[1;31m---------------------------------------------------------------------------\u001b[0m",
      "\u001b[1;31mNameError\u001b[0m                                 Traceback (most recent call last)",
      "Cell \u001b[1;32mIn[23], line 15\u001b[0m, in \u001b[0;36mdraw_roi\u001b[1;34m(event, x, y, flags, params)\u001b[0m\n\u001b[0;32m     13\u001b[0m \u001b[39m# 마우스 이동 중\u001b[39;00m\n\u001b[0;32m     14\u001b[0m \u001b[39melif\u001b[39;00m event \u001b[39m==\u001b[39m cv2\u001b[39m.\u001b[39mEVENT_MOUSEMOVE:\n\u001b[1;32m---> 15\u001b[0m     \u001b[39mif\u001b[39;00m drawing:\n\u001b[0;32m     16\u001b[0m         top_left_pt, bottom_right_pt \u001b[39m=\u001b[39m (x_init, y_init), (x, y)\n\u001b[0;32m     17\u001b[0m         \u001b[39m# 사각형 그리기\u001b[39;00m\n",
      "\u001b[1;31mNameError\u001b[0m: name 'drawing' is not defined"
     ]
    },
    {
     "ename": "NameError",
     "evalue": "name 'drawing' is not defined",
     "output_type": "error",
     "traceback": [
      "\u001b[1;31m---------------------------------------------------------------------------\u001b[0m",
      "\u001b[1;31mNameError\u001b[0m                                 Traceback (most recent call last)",
      "Cell \u001b[1;32mIn[23], line 15\u001b[0m, in \u001b[0;36mdraw_roi\u001b[1;34m(event, x, y, flags, params)\u001b[0m\n\u001b[0;32m     13\u001b[0m \u001b[39m# 마우스 이동 중\u001b[39;00m\n\u001b[0;32m     14\u001b[0m \u001b[39melif\u001b[39;00m event \u001b[39m==\u001b[39m cv2\u001b[39m.\u001b[39mEVENT_MOUSEMOVE:\n\u001b[1;32m---> 15\u001b[0m     \u001b[39mif\u001b[39;00m drawing:\n\u001b[0;32m     16\u001b[0m         top_left_pt, bottom_right_pt \u001b[39m=\u001b[39m (x_init, y_init), (x, y)\n\u001b[0;32m     17\u001b[0m         \u001b[39m# 사각형 그리기\u001b[39;00m\n",
      "\u001b[1;31mNameError\u001b[0m: name 'drawing' is not defined"
     ]
    },
    {
     "ename": "NameError",
     "evalue": "name 'drawing' is not defined",
     "output_type": "error",
     "traceback": [
      "\u001b[1;31m---------------------------------------------------------------------------\u001b[0m",
      "\u001b[1;31mNameError\u001b[0m                                 Traceback (most recent call last)",
      "Cell \u001b[1;32mIn[23], line 15\u001b[0m, in \u001b[0;36mdraw_roi\u001b[1;34m(event, x, y, flags, params)\u001b[0m\n\u001b[0;32m     13\u001b[0m \u001b[39m# 마우스 이동 중\u001b[39;00m\n\u001b[0;32m     14\u001b[0m \u001b[39melif\u001b[39;00m event \u001b[39m==\u001b[39m cv2\u001b[39m.\u001b[39mEVENT_MOUSEMOVE:\n\u001b[1;32m---> 15\u001b[0m     \u001b[39mif\u001b[39;00m drawing:\n\u001b[0;32m     16\u001b[0m         top_left_pt, bottom_right_pt \u001b[39m=\u001b[39m (x_init, y_init), (x, y)\n\u001b[0;32m     17\u001b[0m         \u001b[39m# 사각형 그리기\u001b[39;00m\n",
      "\u001b[1;31mNameError\u001b[0m: name 'drawing' is not defined"
     ]
    },
    {
     "ename": "NameError",
     "evalue": "name 'drawing' is not defined",
     "output_type": "error",
     "traceback": [
      "\u001b[1;31m---------------------------------------------------------------------------\u001b[0m",
      "\u001b[1;31mNameError\u001b[0m                                 Traceback (most recent call last)",
      "Cell \u001b[1;32mIn[23], line 15\u001b[0m, in \u001b[0;36mdraw_roi\u001b[1;34m(event, x, y, flags, params)\u001b[0m\n\u001b[0;32m     13\u001b[0m \u001b[39m# 마우스 이동 중\u001b[39;00m\n\u001b[0;32m     14\u001b[0m \u001b[39melif\u001b[39;00m event \u001b[39m==\u001b[39m cv2\u001b[39m.\u001b[39mEVENT_MOUSEMOVE:\n\u001b[1;32m---> 15\u001b[0m     \u001b[39mif\u001b[39;00m drawing:\n\u001b[0;32m     16\u001b[0m         top_left_pt, bottom_right_pt \u001b[39m=\u001b[39m (x_init, y_init), (x, y)\n\u001b[0;32m     17\u001b[0m         \u001b[39m# 사각형 그리기\u001b[39;00m\n",
      "\u001b[1;31mNameError\u001b[0m: name 'drawing' is not defined"
     ]
    },
    {
     "ename": "NameError",
     "evalue": "name 'drawing' is not defined",
     "output_type": "error",
     "traceback": [
      "\u001b[1;31m---------------------------------------------------------------------------\u001b[0m",
      "\u001b[1;31mNameError\u001b[0m                                 Traceback (most recent call last)",
      "Cell \u001b[1;32mIn[23], line 15\u001b[0m, in \u001b[0;36mdraw_roi\u001b[1;34m(event, x, y, flags, params)\u001b[0m\n\u001b[0;32m     13\u001b[0m \u001b[39m# 마우스 이동 중\u001b[39;00m\n\u001b[0;32m     14\u001b[0m \u001b[39melif\u001b[39;00m event \u001b[39m==\u001b[39m cv2\u001b[39m.\u001b[39mEVENT_MOUSEMOVE:\n\u001b[1;32m---> 15\u001b[0m     \u001b[39mif\u001b[39;00m drawing:\n\u001b[0;32m     16\u001b[0m         top_left_pt, bottom_right_pt \u001b[39m=\u001b[39m (x_init, y_init), (x, y)\n\u001b[0;32m     17\u001b[0m         \u001b[39m# 사각형 그리기\u001b[39;00m\n",
      "\u001b[1;31mNameError\u001b[0m: name 'drawing' is not defined"
     ]
    },
    {
     "ename": "NameError",
     "evalue": "name 'drawing' is not defined",
     "output_type": "error",
     "traceback": [
      "\u001b[1;31m---------------------------------------------------------------------------\u001b[0m",
      "\u001b[1;31mNameError\u001b[0m                                 Traceback (most recent call last)",
      "Cell \u001b[1;32mIn[23], line 15\u001b[0m, in \u001b[0;36mdraw_roi\u001b[1;34m(event, x, y, flags, params)\u001b[0m\n\u001b[0;32m     13\u001b[0m \u001b[39m# 마우스 이동 중\u001b[39;00m\n\u001b[0;32m     14\u001b[0m \u001b[39melif\u001b[39;00m event \u001b[39m==\u001b[39m cv2\u001b[39m.\u001b[39mEVENT_MOUSEMOVE:\n\u001b[1;32m---> 15\u001b[0m     \u001b[39mif\u001b[39;00m drawing:\n\u001b[0;32m     16\u001b[0m         top_left_pt, bottom_right_pt \u001b[39m=\u001b[39m (x_init, y_init), (x, y)\n\u001b[0;32m     17\u001b[0m         \u001b[39m# 사각형 그리기\u001b[39;00m\n",
      "\u001b[1;31mNameError\u001b[0m: name 'drawing' is not defined"
     ]
    },
    {
     "ename": "NameError",
     "evalue": "name 'drawing' is not defined",
     "output_type": "error",
     "traceback": [
      "\u001b[1;31m---------------------------------------------------------------------------\u001b[0m",
      "\u001b[1;31mNameError\u001b[0m                                 Traceback (most recent call last)",
      "Cell \u001b[1;32mIn[23], line 15\u001b[0m, in \u001b[0;36mdraw_roi\u001b[1;34m(event, x, y, flags, params)\u001b[0m\n\u001b[0;32m     13\u001b[0m \u001b[39m# 마우스 이동 중\u001b[39;00m\n\u001b[0;32m     14\u001b[0m \u001b[39melif\u001b[39;00m event \u001b[39m==\u001b[39m cv2\u001b[39m.\u001b[39mEVENT_MOUSEMOVE:\n\u001b[1;32m---> 15\u001b[0m     \u001b[39mif\u001b[39;00m drawing:\n\u001b[0;32m     16\u001b[0m         top_left_pt, bottom_right_pt \u001b[39m=\u001b[39m (x_init, y_init), (x, y)\n\u001b[0;32m     17\u001b[0m         \u001b[39m# 사각형 그리기\u001b[39;00m\n",
      "\u001b[1;31mNameError\u001b[0m: name 'drawing' is not defined"
     ]
    },
    {
     "ename": "NameError",
     "evalue": "name 'drawing' is not defined",
     "output_type": "error",
     "traceback": [
      "\u001b[1;31m---------------------------------------------------------------------------\u001b[0m",
      "\u001b[1;31mNameError\u001b[0m                                 Traceback (most recent call last)",
      "Cell \u001b[1;32mIn[23], line 15\u001b[0m, in \u001b[0;36mdraw_roi\u001b[1;34m(event, x, y, flags, params)\u001b[0m\n\u001b[0;32m     13\u001b[0m \u001b[39m# 마우스 이동 중\u001b[39;00m\n\u001b[0;32m     14\u001b[0m \u001b[39melif\u001b[39;00m event \u001b[39m==\u001b[39m cv2\u001b[39m.\u001b[39mEVENT_MOUSEMOVE:\n\u001b[1;32m---> 15\u001b[0m     \u001b[39mif\u001b[39;00m drawing:\n\u001b[0;32m     16\u001b[0m         top_left_pt, bottom_right_pt \u001b[39m=\u001b[39m (x_init, y_init), (x, y)\n\u001b[0;32m     17\u001b[0m         \u001b[39m# 사각형 그리기\u001b[39;00m\n",
      "\u001b[1;31mNameError\u001b[0m: name 'drawing' is not defined"
     ]
    },
    {
     "ename": "NameError",
     "evalue": "name 'drawing' is not defined",
     "output_type": "error",
     "traceback": [
      "\u001b[1;31m---------------------------------------------------------------------------\u001b[0m",
      "\u001b[1;31mNameError\u001b[0m                                 Traceback (most recent call last)",
      "Cell \u001b[1;32mIn[23], line 15\u001b[0m, in \u001b[0;36mdraw_roi\u001b[1;34m(event, x, y, flags, params)\u001b[0m\n\u001b[0;32m     13\u001b[0m \u001b[39m# 마우스 이동 중\u001b[39;00m\n\u001b[0;32m     14\u001b[0m \u001b[39melif\u001b[39;00m event \u001b[39m==\u001b[39m cv2\u001b[39m.\u001b[39mEVENT_MOUSEMOVE:\n\u001b[1;32m---> 15\u001b[0m     \u001b[39mif\u001b[39;00m drawing:\n\u001b[0;32m     16\u001b[0m         top_left_pt, bottom_right_pt \u001b[39m=\u001b[39m (x_init, y_init), (x, y)\n\u001b[0;32m     17\u001b[0m         \u001b[39m# 사각형 그리기\u001b[39;00m\n",
      "\u001b[1;31mNameError\u001b[0m: name 'drawing' is not defined"
     ]
    },
    {
     "ename": "NameError",
     "evalue": "name 'drawing' is not defined",
     "output_type": "error",
     "traceback": [
      "\u001b[1;31m---------------------------------------------------------------------------\u001b[0m",
      "\u001b[1;31mNameError\u001b[0m                                 Traceback (most recent call last)",
      "Cell \u001b[1;32mIn[23], line 15\u001b[0m, in \u001b[0;36mdraw_roi\u001b[1;34m(event, x, y, flags, params)\u001b[0m\n\u001b[0;32m     13\u001b[0m \u001b[39m# 마우스 이동 중\u001b[39;00m\n\u001b[0;32m     14\u001b[0m \u001b[39melif\u001b[39;00m event \u001b[39m==\u001b[39m cv2\u001b[39m.\u001b[39mEVENT_MOUSEMOVE:\n\u001b[1;32m---> 15\u001b[0m     \u001b[39mif\u001b[39;00m drawing:\n\u001b[0;32m     16\u001b[0m         top_left_pt, bottom_right_pt \u001b[39m=\u001b[39m (x_init, y_init), (x, y)\n\u001b[0;32m     17\u001b[0m         \u001b[39m# 사각형 그리기\u001b[39;00m\n",
      "\u001b[1;31mNameError\u001b[0m: name 'drawing' is not defined"
     ]
    },
    {
     "ename": "NameError",
     "evalue": "name 'drawing' is not defined",
     "output_type": "error",
     "traceback": [
      "\u001b[1;31m---------------------------------------------------------------------------\u001b[0m",
      "\u001b[1;31mNameError\u001b[0m                                 Traceback (most recent call last)",
      "Cell \u001b[1;32mIn[23], line 15\u001b[0m, in \u001b[0;36mdraw_roi\u001b[1;34m(event, x, y, flags, params)\u001b[0m\n\u001b[0;32m     13\u001b[0m \u001b[39m# 마우스 이동 중\u001b[39;00m\n\u001b[0;32m     14\u001b[0m \u001b[39melif\u001b[39;00m event \u001b[39m==\u001b[39m cv2\u001b[39m.\u001b[39mEVENT_MOUSEMOVE:\n\u001b[1;32m---> 15\u001b[0m     \u001b[39mif\u001b[39;00m drawing:\n\u001b[0;32m     16\u001b[0m         top_left_pt, bottom_right_pt \u001b[39m=\u001b[39m (x_init, y_init), (x, y)\n\u001b[0;32m     17\u001b[0m         \u001b[39m# 사각형 그리기\u001b[39;00m\n",
      "\u001b[1;31mNameError\u001b[0m: name 'drawing' is not defined"
     ]
    },
    {
     "ename": "NameError",
     "evalue": "name 'drawing' is not defined",
     "output_type": "error",
     "traceback": [
      "\u001b[1;31m---------------------------------------------------------------------------\u001b[0m",
      "\u001b[1;31mNameError\u001b[0m                                 Traceback (most recent call last)",
      "Cell \u001b[1;32mIn[23], line 15\u001b[0m, in \u001b[0;36mdraw_roi\u001b[1;34m(event, x, y, flags, params)\u001b[0m\n\u001b[0;32m     13\u001b[0m \u001b[39m# 마우스 이동 중\u001b[39;00m\n\u001b[0;32m     14\u001b[0m \u001b[39melif\u001b[39;00m event \u001b[39m==\u001b[39m cv2\u001b[39m.\u001b[39mEVENT_MOUSEMOVE:\n\u001b[1;32m---> 15\u001b[0m     \u001b[39mif\u001b[39;00m drawing:\n\u001b[0;32m     16\u001b[0m         top_left_pt, bottom_right_pt \u001b[39m=\u001b[39m (x_init, y_init), (x, y)\n\u001b[0;32m     17\u001b[0m         \u001b[39m# 사각형 그리기\u001b[39;00m\n",
      "\u001b[1;31mNameError\u001b[0m: name 'drawing' is not defined"
     ]
    },
    {
     "ename": "NameError",
     "evalue": "name 'drawing' is not defined",
     "output_type": "error",
     "traceback": [
      "\u001b[1;31m---------------------------------------------------------------------------\u001b[0m",
      "\u001b[1;31mNameError\u001b[0m                                 Traceback (most recent call last)",
      "Cell \u001b[1;32mIn[23], line 15\u001b[0m, in \u001b[0;36mdraw_roi\u001b[1;34m(event, x, y, flags, params)\u001b[0m\n\u001b[0;32m     13\u001b[0m \u001b[39m# 마우스 이동 중\u001b[39;00m\n\u001b[0;32m     14\u001b[0m \u001b[39melif\u001b[39;00m event \u001b[39m==\u001b[39m cv2\u001b[39m.\u001b[39mEVENT_MOUSEMOVE:\n\u001b[1;32m---> 15\u001b[0m     \u001b[39mif\u001b[39;00m drawing:\n\u001b[0;32m     16\u001b[0m         top_left_pt, bottom_right_pt \u001b[39m=\u001b[39m (x_init, y_init), (x, y)\n\u001b[0;32m     17\u001b[0m         \u001b[39m# 사각형 그리기\u001b[39;00m\n",
      "\u001b[1;31mNameError\u001b[0m: name 'drawing' is not defined"
     ]
    },
    {
     "ename": "NameError",
     "evalue": "name 'drawing' is not defined",
     "output_type": "error",
     "traceback": [
      "\u001b[1;31m---------------------------------------------------------------------------\u001b[0m",
      "\u001b[1;31mNameError\u001b[0m                                 Traceback (most recent call last)",
      "Cell \u001b[1;32mIn[23], line 15\u001b[0m, in \u001b[0;36mdraw_roi\u001b[1;34m(event, x, y, flags, params)\u001b[0m\n\u001b[0;32m     13\u001b[0m \u001b[39m# 마우스 이동 중\u001b[39;00m\n\u001b[0;32m     14\u001b[0m \u001b[39melif\u001b[39;00m event \u001b[39m==\u001b[39m cv2\u001b[39m.\u001b[39mEVENT_MOUSEMOVE:\n\u001b[1;32m---> 15\u001b[0m     \u001b[39mif\u001b[39;00m drawing:\n\u001b[0;32m     16\u001b[0m         top_left_pt, bottom_right_pt \u001b[39m=\u001b[39m (x_init, y_init), (x, y)\n\u001b[0;32m     17\u001b[0m         \u001b[39m# 사각형 그리기\u001b[39;00m\n",
      "\u001b[1;31mNameError\u001b[0m: name 'drawing' is not defined"
     ]
    },
    {
     "ename": "NameError",
     "evalue": "name 'drawing' is not defined",
     "output_type": "error",
     "traceback": [
      "\u001b[1;31m---------------------------------------------------------------------------\u001b[0m",
      "\u001b[1;31mNameError\u001b[0m                                 Traceback (most recent call last)",
      "Cell \u001b[1;32mIn[23], line 15\u001b[0m, in \u001b[0;36mdraw_roi\u001b[1;34m(event, x, y, flags, params)\u001b[0m\n\u001b[0;32m     13\u001b[0m \u001b[39m# 마우스 이동 중\u001b[39;00m\n\u001b[0;32m     14\u001b[0m \u001b[39melif\u001b[39;00m event \u001b[39m==\u001b[39m cv2\u001b[39m.\u001b[39mEVENT_MOUSEMOVE:\n\u001b[1;32m---> 15\u001b[0m     \u001b[39mif\u001b[39;00m drawing:\n\u001b[0;32m     16\u001b[0m         top_left_pt, bottom_right_pt \u001b[39m=\u001b[39m (x_init, y_init), (x, y)\n\u001b[0;32m     17\u001b[0m         \u001b[39m# 사각형 그리기\u001b[39;00m\n",
      "\u001b[1;31mNameError\u001b[0m: name 'drawing' is not defined"
     ]
    },
    {
     "ename": "NameError",
     "evalue": "name 'drawing' is not defined",
     "output_type": "error",
     "traceback": [
      "\u001b[1;31m---------------------------------------------------------------------------\u001b[0m",
      "\u001b[1;31mNameError\u001b[0m                                 Traceback (most recent call last)",
      "Cell \u001b[1;32mIn[23], line 15\u001b[0m, in \u001b[0;36mdraw_roi\u001b[1;34m(event, x, y, flags, params)\u001b[0m\n\u001b[0;32m     13\u001b[0m \u001b[39m# 마우스 이동 중\u001b[39;00m\n\u001b[0;32m     14\u001b[0m \u001b[39melif\u001b[39;00m event \u001b[39m==\u001b[39m cv2\u001b[39m.\u001b[39mEVENT_MOUSEMOVE:\n\u001b[1;32m---> 15\u001b[0m     \u001b[39mif\u001b[39;00m drawing:\n\u001b[0;32m     16\u001b[0m         top_left_pt, bottom_right_pt \u001b[39m=\u001b[39m (x_init, y_init), (x, y)\n\u001b[0;32m     17\u001b[0m         \u001b[39m# 사각형 그리기\u001b[39;00m\n",
      "\u001b[1;31mNameError\u001b[0m: name 'drawing' is not defined"
     ]
    },
    {
     "ename": "NameError",
     "evalue": "name 'drawing' is not defined",
     "output_type": "error",
     "traceback": [
      "\u001b[1;31m---------------------------------------------------------------------------\u001b[0m",
      "\u001b[1;31mNameError\u001b[0m                                 Traceback (most recent call last)",
      "Cell \u001b[1;32mIn[23], line 15\u001b[0m, in \u001b[0;36mdraw_roi\u001b[1;34m(event, x, y, flags, params)\u001b[0m\n\u001b[0;32m     13\u001b[0m \u001b[39m# 마우스 이동 중\u001b[39;00m\n\u001b[0;32m     14\u001b[0m \u001b[39melif\u001b[39;00m event \u001b[39m==\u001b[39m cv2\u001b[39m.\u001b[39mEVENT_MOUSEMOVE:\n\u001b[1;32m---> 15\u001b[0m     \u001b[39mif\u001b[39;00m drawing:\n\u001b[0;32m     16\u001b[0m         top_left_pt, bottom_right_pt \u001b[39m=\u001b[39m (x_init, y_init), (x, y)\n\u001b[0;32m     17\u001b[0m         \u001b[39m# 사각형 그리기\u001b[39;00m\n",
      "\u001b[1;31mNameError\u001b[0m: name 'drawing' is not defined"
     ]
    },
    {
     "ename": "NameError",
     "evalue": "name 'drawing' is not defined",
     "output_type": "error",
     "traceback": [
      "\u001b[1;31m---------------------------------------------------------------------------\u001b[0m",
      "\u001b[1;31mNameError\u001b[0m                                 Traceback (most recent call last)",
      "Cell \u001b[1;32mIn[23], line 15\u001b[0m, in \u001b[0;36mdraw_roi\u001b[1;34m(event, x, y, flags, params)\u001b[0m\n\u001b[0;32m     13\u001b[0m \u001b[39m# 마우스 이동 중\u001b[39;00m\n\u001b[0;32m     14\u001b[0m \u001b[39melif\u001b[39;00m event \u001b[39m==\u001b[39m cv2\u001b[39m.\u001b[39mEVENT_MOUSEMOVE:\n\u001b[1;32m---> 15\u001b[0m     \u001b[39mif\u001b[39;00m drawing:\n\u001b[0;32m     16\u001b[0m         top_left_pt, bottom_right_pt \u001b[39m=\u001b[39m (x_init, y_init), (x, y)\n\u001b[0;32m     17\u001b[0m         \u001b[39m# 사각형 그리기\u001b[39;00m\n",
      "\u001b[1;31mNameError\u001b[0m: name 'drawing' is not defined"
     ]
    },
    {
     "ename": "NameError",
     "evalue": "name 'drawing' is not defined",
     "output_type": "error",
     "traceback": [
      "\u001b[1;31m---------------------------------------------------------------------------\u001b[0m",
      "\u001b[1;31mNameError\u001b[0m                                 Traceback (most recent call last)",
      "Cell \u001b[1;32mIn[23], line 15\u001b[0m, in \u001b[0;36mdraw_roi\u001b[1;34m(event, x, y, flags, params)\u001b[0m\n\u001b[0;32m     13\u001b[0m \u001b[39m# 마우스 이동 중\u001b[39;00m\n\u001b[0;32m     14\u001b[0m \u001b[39melif\u001b[39;00m event \u001b[39m==\u001b[39m cv2\u001b[39m.\u001b[39mEVENT_MOUSEMOVE:\n\u001b[1;32m---> 15\u001b[0m     \u001b[39mif\u001b[39;00m drawing:\n\u001b[0;32m     16\u001b[0m         top_left_pt, bottom_right_pt \u001b[39m=\u001b[39m (x_init, y_init), (x, y)\n\u001b[0;32m     17\u001b[0m         \u001b[39m# 사각형 그리기\u001b[39;00m\n",
      "\u001b[1;31mNameError\u001b[0m: name 'drawing' is not defined"
     ]
    },
    {
     "ename": "NameError",
     "evalue": "name 'drawing' is not defined",
     "output_type": "error",
     "traceback": [
      "\u001b[1;31m---------------------------------------------------------------------------\u001b[0m",
      "\u001b[1;31mNameError\u001b[0m                                 Traceback (most recent call last)",
      "Cell \u001b[1;32mIn[23], line 15\u001b[0m, in \u001b[0;36mdraw_roi\u001b[1;34m(event, x, y, flags, params)\u001b[0m\n\u001b[0;32m     13\u001b[0m \u001b[39m# 마우스 이동 중\u001b[39;00m\n\u001b[0;32m     14\u001b[0m \u001b[39melif\u001b[39;00m event \u001b[39m==\u001b[39m cv2\u001b[39m.\u001b[39mEVENT_MOUSEMOVE:\n\u001b[1;32m---> 15\u001b[0m     \u001b[39mif\u001b[39;00m drawing:\n\u001b[0;32m     16\u001b[0m         top_left_pt, bottom_right_pt \u001b[39m=\u001b[39m (x_init, y_init), (x, y)\n\u001b[0;32m     17\u001b[0m         \u001b[39m# 사각형 그리기\u001b[39;00m\n",
      "\u001b[1;31mNameError\u001b[0m: name 'drawing' is not defined"
     ]
    },
    {
     "ename": "NameError",
     "evalue": "name 'drawing' is not defined",
     "output_type": "error",
     "traceback": [
      "\u001b[1;31m---------------------------------------------------------------------------\u001b[0m",
      "\u001b[1;31mNameError\u001b[0m                                 Traceback (most recent call last)",
      "Cell \u001b[1;32mIn[23], line 15\u001b[0m, in \u001b[0;36mdraw_roi\u001b[1;34m(event, x, y, flags, params)\u001b[0m\n\u001b[0;32m     13\u001b[0m \u001b[39m# 마우스 이동 중\u001b[39;00m\n\u001b[0;32m     14\u001b[0m \u001b[39melif\u001b[39;00m event \u001b[39m==\u001b[39m cv2\u001b[39m.\u001b[39mEVENT_MOUSEMOVE:\n\u001b[1;32m---> 15\u001b[0m     \u001b[39mif\u001b[39;00m drawing:\n\u001b[0;32m     16\u001b[0m         top_left_pt, bottom_right_pt \u001b[39m=\u001b[39m (x_init, y_init), (x, y)\n\u001b[0;32m     17\u001b[0m         \u001b[39m# 사각형 그리기\u001b[39;00m\n",
      "\u001b[1;31mNameError\u001b[0m: name 'drawing' is not defined"
     ]
    },
    {
     "ename": "NameError",
     "evalue": "name 'drawing' is not defined",
     "output_type": "error",
     "traceback": [
      "\u001b[1;31m---------------------------------------------------------------------------\u001b[0m",
      "\u001b[1;31mNameError\u001b[0m                                 Traceback (most recent call last)",
      "Cell \u001b[1;32mIn[23], line 15\u001b[0m, in \u001b[0;36mdraw_roi\u001b[1;34m(event, x, y, flags, params)\u001b[0m\n\u001b[0;32m     13\u001b[0m \u001b[39m# 마우스 이동 중\u001b[39;00m\n\u001b[0;32m     14\u001b[0m \u001b[39melif\u001b[39;00m event \u001b[39m==\u001b[39m cv2\u001b[39m.\u001b[39mEVENT_MOUSEMOVE:\n\u001b[1;32m---> 15\u001b[0m     \u001b[39mif\u001b[39;00m drawing:\n\u001b[0;32m     16\u001b[0m         top_left_pt, bottom_right_pt \u001b[39m=\u001b[39m (x_init, y_init), (x, y)\n\u001b[0;32m     17\u001b[0m         \u001b[39m# 사각형 그리기\u001b[39;00m\n",
      "\u001b[1;31mNameError\u001b[0m: name 'drawing' is not defined"
     ]
    },
    {
     "ename": "NameError",
     "evalue": "name 'drawing' is not defined",
     "output_type": "error",
     "traceback": [
      "\u001b[1;31m---------------------------------------------------------------------------\u001b[0m",
      "\u001b[1;31mNameError\u001b[0m                                 Traceback (most recent call last)",
      "Cell \u001b[1;32mIn[23], line 15\u001b[0m, in \u001b[0;36mdraw_roi\u001b[1;34m(event, x, y, flags, params)\u001b[0m\n\u001b[0;32m     13\u001b[0m \u001b[39m# 마우스 이동 중\u001b[39;00m\n\u001b[0;32m     14\u001b[0m \u001b[39melif\u001b[39;00m event \u001b[39m==\u001b[39m cv2\u001b[39m.\u001b[39mEVENT_MOUSEMOVE:\n\u001b[1;32m---> 15\u001b[0m     \u001b[39mif\u001b[39;00m drawing:\n\u001b[0;32m     16\u001b[0m         top_left_pt, bottom_right_pt \u001b[39m=\u001b[39m (x_init, y_init), (x, y)\n\u001b[0;32m     17\u001b[0m         \u001b[39m# 사각형 그리기\u001b[39;00m\n",
      "\u001b[1;31mNameError\u001b[0m: name 'drawing' is not defined"
     ]
    },
    {
     "ename": "NameError",
     "evalue": "name 'drawing' is not defined",
     "output_type": "error",
     "traceback": [
      "\u001b[1;31m---------------------------------------------------------------------------\u001b[0m",
      "\u001b[1;31mNameError\u001b[0m                                 Traceback (most recent call last)",
      "Cell \u001b[1;32mIn[23], line 15\u001b[0m, in \u001b[0;36mdraw_roi\u001b[1;34m(event, x, y, flags, params)\u001b[0m\n\u001b[0;32m     13\u001b[0m \u001b[39m# 마우스 이동 중\u001b[39;00m\n\u001b[0;32m     14\u001b[0m \u001b[39melif\u001b[39;00m event \u001b[39m==\u001b[39m cv2\u001b[39m.\u001b[39mEVENT_MOUSEMOVE:\n\u001b[1;32m---> 15\u001b[0m     \u001b[39mif\u001b[39;00m drawing:\n\u001b[0;32m     16\u001b[0m         top_left_pt, bottom_right_pt \u001b[39m=\u001b[39m (x_init, y_init), (x, y)\n\u001b[0;32m     17\u001b[0m         \u001b[39m# 사각형 그리기\u001b[39;00m\n",
      "\u001b[1;31mNameError\u001b[0m: name 'drawing' is not defined"
     ]
    },
    {
     "ename": "NameError",
     "evalue": "name 'drawing' is not defined",
     "output_type": "error",
     "traceback": [
      "\u001b[1;31m---------------------------------------------------------------------------\u001b[0m",
      "\u001b[1;31mNameError\u001b[0m                                 Traceback (most recent call last)",
      "Cell \u001b[1;32mIn[23], line 15\u001b[0m, in \u001b[0;36mdraw_roi\u001b[1;34m(event, x, y, flags, params)\u001b[0m\n\u001b[0;32m     13\u001b[0m \u001b[39m# 마우스 이동 중\u001b[39;00m\n\u001b[0;32m     14\u001b[0m \u001b[39melif\u001b[39;00m event \u001b[39m==\u001b[39m cv2\u001b[39m.\u001b[39mEVENT_MOUSEMOVE:\n\u001b[1;32m---> 15\u001b[0m     \u001b[39mif\u001b[39;00m drawing:\n\u001b[0;32m     16\u001b[0m         top_left_pt, bottom_right_pt \u001b[39m=\u001b[39m (x_init, y_init), (x, y)\n\u001b[0;32m     17\u001b[0m         \u001b[39m# 사각형 그리기\u001b[39;00m\n",
      "\u001b[1;31mNameError\u001b[0m: name 'drawing' is not defined"
     ]
    },
    {
     "ename": "NameError",
     "evalue": "name 'drawing' is not defined",
     "output_type": "error",
     "traceback": [
      "\u001b[1;31m---------------------------------------------------------------------------\u001b[0m",
      "\u001b[1;31mNameError\u001b[0m                                 Traceback (most recent call last)",
      "Cell \u001b[1;32mIn[23], line 15\u001b[0m, in \u001b[0;36mdraw_roi\u001b[1;34m(event, x, y, flags, params)\u001b[0m\n\u001b[0;32m     13\u001b[0m \u001b[39m# 마우스 이동 중\u001b[39;00m\n\u001b[0;32m     14\u001b[0m \u001b[39melif\u001b[39;00m event \u001b[39m==\u001b[39m cv2\u001b[39m.\u001b[39mEVENT_MOUSEMOVE:\n\u001b[1;32m---> 15\u001b[0m     \u001b[39mif\u001b[39;00m drawing:\n\u001b[0;32m     16\u001b[0m         top_left_pt, bottom_right_pt \u001b[39m=\u001b[39m (x_init, y_init), (x, y)\n\u001b[0;32m     17\u001b[0m         \u001b[39m# 사각형 그리기\u001b[39;00m\n",
      "\u001b[1;31mNameError\u001b[0m: name 'drawing' is not defined"
     ]
    },
    {
     "ename": "NameError",
     "evalue": "name 'drawing' is not defined",
     "output_type": "error",
     "traceback": [
      "\u001b[1;31m---------------------------------------------------------------------------\u001b[0m",
      "\u001b[1;31mNameError\u001b[0m                                 Traceback (most recent call last)",
      "Cell \u001b[1;32mIn[23], line 15\u001b[0m, in \u001b[0;36mdraw_roi\u001b[1;34m(event, x, y, flags, params)\u001b[0m\n\u001b[0;32m     13\u001b[0m \u001b[39m# 마우스 이동 중\u001b[39;00m\n\u001b[0;32m     14\u001b[0m \u001b[39melif\u001b[39;00m event \u001b[39m==\u001b[39m cv2\u001b[39m.\u001b[39mEVENT_MOUSEMOVE:\n\u001b[1;32m---> 15\u001b[0m     \u001b[39mif\u001b[39;00m drawing:\n\u001b[0;32m     16\u001b[0m         top_left_pt, bottom_right_pt \u001b[39m=\u001b[39m (x_init, y_init), (x, y)\n\u001b[0;32m     17\u001b[0m         \u001b[39m# 사각형 그리기\u001b[39;00m\n",
      "\u001b[1;31mNameError\u001b[0m: name 'drawing' is not defined"
     ]
    },
    {
     "ename": "NameError",
     "evalue": "name 'drawing' is not defined",
     "output_type": "error",
     "traceback": [
      "\u001b[1;31m---------------------------------------------------------------------------\u001b[0m",
      "\u001b[1;31mNameError\u001b[0m                                 Traceback (most recent call last)",
      "Cell \u001b[1;32mIn[23], line 15\u001b[0m, in \u001b[0;36mdraw_roi\u001b[1;34m(event, x, y, flags, params)\u001b[0m\n\u001b[0;32m     13\u001b[0m \u001b[39m# 마우스 이동 중\u001b[39;00m\n\u001b[0;32m     14\u001b[0m \u001b[39melif\u001b[39;00m event \u001b[39m==\u001b[39m cv2\u001b[39m.\u001b[39mEVENT_MOUSEMOVE:\n\u001b[1;32m---> 15\u001b[0m     \u001b[39mif\u001b[39;00m drawing:\n\u001b[0;32m     16\u001b[0m         top_left_pt, bottom_right_pt \u001b[39m=\u001b[39m (x_init, y_init), (x, y)\n\u001b[0;32m     17\u001b[0m         \u001b[39m# 사각형 그리기\u001b[39;00m\n",
      "\u001b[1;31mNameError\u001b[0m: name 'drawing' is not defined"
     ]
    },
    {
     "ename": "NameError",
     "evalue": "name 'drawing' is not defined",
     "output_type": "error",
     "traceback": [
      "\u001b[1;31m---------------------------------------------------------------------------\u001b[0m",
      "\u001b[1;31mNameError\u001b[0m                                 Traceback (most recent call last)",
      "Cell \u001b[1;32mIn[23], line 15\u001b[0m, in \u001b[0;36mdraw_roi\u001b[1;34m(event, x, y, flags, params)\u001b[0m\n\u001b[0;32m     13\u001b[0m \u001b[39m# 마우스 이동 중\u001b[39;00m\n\u001b[0;32m     14\u001b[0m \u001b[39melif\u001b[39;00m event \u001b[39m==\u001b[39m cv2\u001b[39m.\u001b[39mEVENT_MOUSEMOVE:\n\u001b[1;32m---> 15\u001b[0m     \u001b[39mif\u001b[39;00m drawing:\n\u001b[0;32m     16\u001b[0m         top_left_pt, bottom_right_pt \u001b[39m=\u001b[39m (x_init, y_init), (x, y)\n\u001b[0;32m     17\u001b[0m         \u001b[39m# 사각형 그리기\u001b[39;00m\n",
      "\u001b[1;31mNameError\u001b[0m: name 'drawing' is not defined"
     ]
    },
    {
     "ename": "NameError",
     "evalue": "name 'drawing' is not defined",
     "output_type": "error",
     "traceback": [
      "\u001b[1;31m---------------------------------------------------------------------------\u001b[0m",
      "\u001b[1;31mNameError\u001b[0m                                 Traceback (most recent call last)",
      "Cell \u001b[1;32mIn[23], line 15\u001b[0m, in \u001b[0;36mdraw_roi\u001b[1;34m(event, x, y, flags, params)\u001b[0m\n\u001b[0;32m     13\u001b[0m \u001b[39m# 마우스 이동 중\u001b[39;00m\n\u001b[0;32m     14\u001b[0m \u001b[39melif\u001b[39;00m event \u001b[39m==\u001b[39m cv2\u001b[39m.\u001b[39mEVENT_MOUSEMOVE:\n\u001b[1;32m---> 15\u001b[0m     \u001b[39mif\u001b[39;00m drawing:\n\u001b[0;32m     16\u001b[0m         top_left_pt, bottom_right_pt \u001b[39m=\u001b[39m (x_init, y_init), (x, y)\n\u001b[0;32m     17\u001b[0m         \u001b[39m# 사각형 그리기\u001b[39;00m\n",
      "\u001b[1;31mNameError\u001b[0m: name 'drawing' is not defined"
     ]
    },
    {
     "ename": "KeyboardInterrupt",
     "evalue": "",
     "output_type": "error",
     "traceback": [
      "\u001b[1;31m---------------------------------------------------------------------------\u001b[0m",
      "\u001b[1;31mKeyboardInterrupt\u001b[0m                         Traceback (most recent call last)",
      "Cell \u001b[1;32mIn[23], line 37\u001b[0m\n\u001b[0;32m     35\u001b[0m \u001b[39mwhile\u001b[39;00m \u001b[39mTrue\u001b[39;00m:\n\u001b[0;32m     36\u001b[0m     cv2\u001b[39m.\u001b[39mimshow(\u001b[39m'\u001b[39m\u001b[39mimage\u001b[39m\u001b[39m'\u001b[39m, img)\n\u001b[1;32m---> 37\u001b[0m     \u001b[39mif\u001b[39;00m cv2\u001b[39m.\u001b[39;49mwaitKey(\u001b[39m1\u001b[39;49m) \u001b[39m==\u001b[39m \u001b[39m27\u001b[39m:\n\u001b[0;32m     38\u001b[0m         \u001b[39mbreak\u001b[39;00m\n\u001b[0;32m     40\u001b[0m \u001b[39m# ROI 좌표 계산\u001b[39;00m\n",
      "\u001b[1;31mKeyboardInterrupt\u001b[0m: "
     ]
    },
    {
     "ename": "",
     "evalue": "",
     "output_type": "error",
     "traceback": [
      "\u001b[1;31m현재 셀 또는 이전 셀에서 코드를 실행하는 동안 Kernel이 충돌했습니다. 셀의 코드를 검토하여 오류의 가능한 원인을 식별하세요. 자세한 내용을 보려면 <a href='https://aka.ms/vscodeJupyterKernelCrash'> 여기 </a> 를 클릭하세요. 자세한 내용은 Jupyter <a href='command:jupyter.viewOutput'>로그</a>를 참조하세요."
     ]
    }
   ],
   "source": [
    "import cv2\n",
    "import numpy as np\n",
    "\n",
    "# 마우스 이벤트를 처리하는 함수\n",
    "def draw_roi(event, x, y, flags, params):\n",
    "    global x_init, y_init, drawing, top_left_pt, bottom_right_pt\n",
    "\n",
    "    # 왼쪽 마우스 버튼을 누르면 ROI 그리기 시작\n",
    "    if event == cv2.EVENT_LBUTTONDOWN:\n",
    "        drawing = True\n",
    "        x_init, y_init = x, y\n",
    "\n",
    "    # 마우스 이동 중\n",
    "    elif event == cv2.EVENT_MOUSEMOVE:\n",
    "        if drawing:\n",
    "            top_left_pt, bottom_right_pt = (x_init, y_init), (x, y)\n",
    "            # 사각형 그리기\n",
    "            img[y_init:y, x_init:x] = 255 - img[y_init:y, x_init:x]\n",
    "\n",
    "    # 왼쪽 마우스 버튼을 떼면 ROI 그리기 종료\n",
    "    elif event == cv2.EVENT_LBUTTONUP:\n",
    "        drawing = False\n",
    "        top_left_pt, bottom_right_pt = (x_init, y_init), (x, y)\n",
    "        # 사각형 그리기\n",
    "        img[y_init:y, x_init:x] = 255 - img[y_init:y, x_init:x]\n",
    "\n",
    "# 이미지 로드\n",
    "img = cv2.imread('cat.bmp', cv2.IMREAD_GRAYSCALE)\n",
    "\n",
    "# 마우스 이벤트 등록\n",
    "cv2.namedWindow('image')\n",
    "cv2.setMouseCallback('image', draw_roi)\n",
    "\n",
    "# 이미지 출력 및 마우스 이벤트 처리\n",
    "while True:\n",
    "    cv2.imshow('image', img)\n",
    "    if cv2.waitKey(1) == 27:\n",
    "        break\n",
    "\n",
    "# ROI 좌표 계산\n",
    "x1, y1 = top_left_pt\n",
    "x2, y2 = bottom_right_pt\n",
    "if x1 > x2:\n",
    "    x1, x2 = x2, x1\n",
    "if y1 > y2:\n",
    "    y1, y2 = y2, y1\n",
    "\n",
    "# ROI 영역 crop\n",
    "img_roi = img[y1:y2, x1:x2]\n",
    "\n",
    "# crop된 이미지 저장\n",
    "cv2.imwrite('output_image.jpg', img_roi)\n",
    "\n",
    "# 자유곡선 부분 마스킹\n",
    "mask = np.zeros(img.shape[:2], dtype=np.uint8)\n",
    "mask[y1:y2, x1:x2] = 255\n",
    "masked_img = cv2.bitwise_and(img, img, mask=mask)\n",
    "\n",
    "# 마스킹된 이미지 출력\n",
    "cv2.imshow('masked image', masked_img)\n",
    "cv2.waitKey(0)\n",
    "cv2.destroyAllWindows()"
   ]
  },
  {
   "cell_type": "code",
   "execution_count": null,
   "metadata": {},
   "outputs": [],
   "source": [
    "import cv2\n",
    "import numpy as np\n",
    "\n",
    "# 마우스 이벤트 콜백 함수 정의\n",
    "def draw(event, x, y, flags, param):\n",
    "    global ix, iy, drawing, mode, img\n",
    "\n",
    "    if event == cv2.EVENT_LBUTTONDOWN:\n",
    "        drawing = True\n",
    "        ix, iy = x, y\n",
    "\n",
    "    elif event == cv2.EVENT_MOUSEMOVE:\n",
    "        if drawing == True:\n",
    "                #cv2.rectangle(img, (ix,iy), (x,y), (0,255,0), -1)\n",
    "                cv2.line(img, (ix,iy), (x,y), (255,0,0), 5)\n",
    "                ix, iy = x, y\n",
    "\n",
    "    elif event == cv2.EVENT_LBUTTONUP:\n",
    "        drawing = False\n",
    "        #cv2.rectangle(img, (ix,iy), (x,y), (0,255,0), -1)\n",
    "        cv2.line(img, (ix,iy), (x,y), (255,0,0), 5)\n",
    "        ix, iy = x, y\n",
    "\n",
    "# 마스킹 함수 정의\n",
    "def mask(image, vertices):\n",
    "    mask = np.zeros_like(image)\n",
    "    cv2.fillPoly(mask, vertices, 255)\n",
    "    masked_image = cv2.bitwise_and(image, mask)\n",
    "    return masked_image\n",
    "\n",
    "# 마우스 이벤트를 처리하기 위한 초기화\n",
    "drawing = False\n",
    "mode = True\n",
    "ix, iy = -1, -1\n",
    "\n",
    "# 테스트 이미지 로드\n",
    "img = cv2.imread('cat.bmp')\n",
    "\n",
    "# 윈도우 생성 및 마우스 이벤트 콜백 함수 등록\n",
    "cv2.namedWindow('image')\n",
    "cv2.setMouseCallback('image', draw)\n",
    "\n",
    "\n",
    "while(1):\n",
    "    cv2.imshow('image',img)\n",
    "    k = cv2.waitKey(1) & 0xFF\n",
    "    if k == ord('c'):\n",
    "        # crop\n",
    "        x1, y1, x2, y2 = cv2.boundingRect(np.array([(ix,iy), (x,y)]))\n",
    "        crop_img = img[y1:y1+y2, x1:x1+x2]\n",
    "        cv2.imwrite(\"crop.jpg\", crop_img)\n",
    "        # mask\n",
    "        gray = cv2.cvtColor(img, cv2.COLOR_BGR2GRAY)\n",
    "        ret, thresh = cv2.threshold(gray, 50, 255, cv2.THRESH_BINARY_INV)\n",
    "        contours, hierarchy = cv2.findContours(thresh, cv2.RETR_TREE, cv2.CHAIN_APPROX_SIMPLE)\n",
    "        contour_img = cv2.drawContours(thresh, contours, -1, (0,255,0), 3)\n",
    "        vertices = np.array([(ix,iy), (x,y), (x,y2), (x1,y2), (x1,y1)])\n",
    "        masked_image = mask(contour_img, [vertices])\n",
    "        cv2.imshow('masked_image',masked_image)\n",
    "    elif k == 27:\n",
    "        break\n",
    "\n",
    "cv2.destroyAllWindows()"
   ]
  },
  {
   "attachments": {},
   "cell_type": "markdown",
   "metadata": {},
   "source": [
    "도전과제: "
   ]
  },
  {
   "cell_type": "code",
   "execution_count": 4,
   "metadata": {},
   "outputs": [
    {
     "name": "stdout",
     "output_type": "stream",
     "text": [
      "color :  (230, 252, 0)\n",
      "60 377 46 431\n",
      "finished\n"
     ]
    },
    {
     "name": "stderr",
     "output_type": "stream",
     "text": [
      "C:\\Users\\user\\AppData\\Local\\Temp\\ipykernel_21880\\811215679.py:44: FutureWarning: The frame.append method is deprecated and will be removed from pandas in a future version. Use pandas.concat instead.\n",
      "  Data_frame=Data_frame.append(data_new,ignore_index=True)\n"
     ]
    },
    {
     "name": "stdout",
     "output_type": "stream",
     "text": [
      "color :  (197, 205, 106)\n",
      "218 730 179 711\n",
      "finished\n"
     ]
    },
    {
     "name": "stderr",
     "output_type": "stream",
     "text": [
      "C:\\Users\\user\\AppData\\Local\\Temp\\ipykernel_21880\\811215679.py:44: FutureWarning: The frame.append method is deprecated and will be removed from pandas in a future version. Use pandas.concat instead.\n",
      "  Data_frame=Data_frame.append(data_new,ignore_index=True)\n"
     ]
    },
    {
     "name": "stdout",
     "output_type": "stream",
     "text": [
      "color :  (181, 63, 203)\n",
      "90 383 124 445\n",
      "finished\n"
     ]
    },
    {
     "name": "stderr",
     "output_type": "stream",
     "text": [
      "C:\\Users\\user\\AppData\\Local\\Temp\\ipykernel_21880\\811215679.py:44: FutureWarning: The frame.append method is deprecated and will be removed from pandas in a future version. Use pandas.concat instead.\n",
      "  Data_frame=Data_frame.append(data_new,ignore_index=True)\n"
     ]
    },
    {
     "name": "stdout",
     "output_type": "stream",
     "text": [
      "    x1   x2   y1   y2  color_r  color_g  color_b\n",
      "0   46  431   60  377      230      252        0\n",
      "1  179  711  218  730      197      205      106\n",
      "2  124  445   90  383      181       63      203\n"
     ]
    }
   ],
   "source": [
    "import cv2\n",
    "import numpy as np\n",
    "from datetime import datetime\n",
    "import random\n",
    "import pandas as pd\n",
    "from functools import reduce\n",
    "isDragging = False                      # 마우스 드래그 상태 저장 \n",
    "x0, y0, w, h = -1,-1,-1,-1              # 영역 선택 좌표 저장\n",
    "blue, red = (135,206,235),(0,0,255)# 색상 값\n",
    "Data_frame=pd.DataFrame()\n",
    "\n",
    "\n",
    "def onMouse(event,x,y,flags,param):     # 마우스 이벤트 핸들 함수\n",
    "    global isDragging, x0, y0, img,Data_frame# 전역변수 참조\n",
    "    color=(random.randint(0,255),random.randint(0,255),random.randint(0,255))\n",
    "    time_value=str(datetime.now()).replace(\" \",\"\").replace(\".\",\"_\").replace(\":\",\"_\").replace(\"-\",\"_\")\n",
    "    type(color[0])\n",
    "    #string_1=reduce(lambda x, y: str(x) + str(y), color, '')\n",
    "    if event == cv2.EVENT_LBUTTONDOWN:  # 왼쪽 마우스 버튼 다운, 드래그 시작 \n",
    "        isDragging = True\n",
    "        x0 = x\n",
    "        y0 = y\n",
    "    elif event == cv2.EVENT_MOUSEMOVE:  # 마우스 움직임 \n",
    "        if isDragging:                  # 드래그 진행 중\n",
    "            img_draw = img.copy()       # 사각형 그림 표현을 위한 이미지 복제\n",
    "            cv2.rectangle(img_draw, (x0, y0), (x, y), color, 2) # 드래그 진행 영역 표시\n",
    "            cv2.imshow('img', img_draw) # 사각형 표시된 그림 화면 출력\n",
    "    elif event == cv2.EVENT_LBUTTONUP:  # 왼쪽 마우스 버튼 업 \n",
    "        if isDragging:                  # 드래그 중지\n",
    "            isDragging = False          \n",
    "            w = x - x0                  # 드래그 영역 폭 계산\n",
    "            h = y - y0                  # 드래그 영역 높이 계산\n",
    "            #print(\"x:%d, y:%d, w:%d, h:%d\" % (x0, y0, w, h))\n",
    "            if w > 0 and h > 0:         # 폭과 높이가 양수이면 드래그 방향이 옳음\n",
    "                img_draw = img.copy()   # 선택 영역에 사각형 그림을 표시할 이미지 복제\n",
    "                # 선택 영역 표시\n",
    "                cv2.rectangle(img_draw, (x0, y0), (x, y), color, 2) \n",
    "                cv2.imshow('img', img_draw) # 빨간 사각형 그려진 이미지 화면 출력\n",
    "                roi = img[y0:y0+h, x0:x0+w] # 원본 이미지에서 선택 영영만 ROI로 지정 \n",
    "                cv2.imshow('cropped', roi)  # ROI 지정 영역을 새창으로 표시\n",
    "                print(\"color : \",color)\n",
    "                data_new=pd.DataFrame([{'x1':x0,'x2':x0+w,'y1':y0,'y2':y0+h,'color_r':color[0],'color_g':color[1],'color_b':color[2]}])\n",
    "                print(y0,y0+h, x0,x0+w)\n",
    "                Data_frame=Data_frame.append(data_new,ignore_index=True)\n",
    "                cv2.moveWindow('cropped', 0, 0) # 새창을 화면 좌측 상단에 이동\n",
    "                path_name=\"./\"+time_value+\".jpg\"# 저장할 파일이름\n",
    "                cv2.imwrite(path_name, roi)   # ROI 영역만 파일로 저장\n",
    "                print(\"finished\")\n",
    "            else:\n",
    "                cv2.imshow('img', img)  # 드래그 방향이 잘못된 경우 사각형 그림이 없는 원본 이미지 출력\n",
    "                print(\"Error: 좌측 상단에서 우측 하단으로 영역을 드래그 하세요.\")\n",
    "\n",
    "img = cv2.imread('cat.bmp')#파일명 입력\n",
    "cv2.imshow('img', img)\n",
    "cv2.setMouseCallback('img', onMouse) # 마우스 이벤트 등록\n",
    "while(1):\n",
    "    k = cv2.waitKey(1) & 0xFF\n",
    "    if k == ord('c'):\n",
    "        cv2.destroyAllWindows()\n",
    "        print (Data_frame)\n",
    "        Data_frame.to_json('test.json',orient='table')\n",
    "        break"
   ]
  },
  {
   "cell_type": "code",
   "execution_count": 9,
   "metadata": {},
   "outputs": [
    {
     "data": {
      "text/plain": [
       "True"
      ]
     },
     "execution_count": 9,
     "metadata": {},
     "output_type": "execute_result"
    }
   ],
   "source": [
    "import cv2\n",
    "import numpy as np\n",
    "\n",
    "# 마우스로 그려진 자유곡선을 저장할 리스트\n",
    "pts = []\n",
    "ix, iy = -1, -1\n",
    "# 마우스 이벤트 핸들러 함수\n",
    "def draw(event, x, y, flags, param):\n",
    "    global pts, ix, iy\n",
    "    if event == cv2.EVENT_LBUTTONDOWN:\n",
    "        pts.append((x, y))\n",
    "        ix, iy = x, y\n",
    "    elif event == cv2.EVENT_LBUTTONUP:\n",
    "        pts.append((x, y))\n",
    "        # 자유곡선 그리기\n",
    "        cv2.polylines(img, [np.array(pts)], True, (0, 0, 255), thickness=2)\n",
    "        cv2.line(img, (ix,iy), (x,y), (255,0,0), 5)\n",
    "        cv2.imshow('image', img)\n",
    "        ix, iy = x, y\n",
    "\n",
    "# 이미지 읽기\n",
    "img = cv2.imread('cat.bmp')\n",
    "\n",
    "# 윈도우 생성 및 마우스 이벤트 콜백 등록\n",
    "cv2.namedWindow('image')\n",
    "cv2.setMouseCallback('image', draw)\n",
    "\n",
    "# 자유곡선 그리기\n",
    "while True:\n",
    "    cv2.imshow('image', img)\n",
    "    if cv2.waitKey(1) & 0xFF == ord('q'):\n",
    "        break\n",
    "cv2.destroyAllWindows()\n",
    "\n",
    "# 자유곡선 좌표를 numpy 배열로 변환\n",
    "pts = np.array(pts)\n",
    "\n",
    "# 자유곡선으로 crop하기\n",
    "mask = np.zeros(img.shape[:2], np.uint8)\n",
    "cv2.drawContours(mask, [pts], -1, (255, 255, 255), -1)\n",
    "crop_img = cv2.bitwise_and(img, img, mask=mask)\n",
    "\n",
    "# 마스킹된 이미지 만들기\n",
    "mask = np.zeros(img.shape[:2], np.uint8)\n",
    "cv2.drawContours(mask, [pts], -1, (255, 255, 255), thickness=cv2.FILLED)\n",
    "masked_img = cv2.bitwise_and(img, img, mask=mask)\n",
    "\n",
    "# crop된 이미지와 마스킹된 이미지 저장하기\n",
    "cv2.imwrite('crop_img.jpg', crop_img)\n",
    "cv2.imwrite('masked_img.jpg', masked_img)\n"
   ]
  },
  {
   "cell_type": "code",
   "execution_count": 13,
   "metadata": {},
   "outputs": [
    {
     "data": {
      "text/plain": [
       "True"
      ]
     },
     "execution_count": 13,
     "metadata": {},
     "output_type": "execute_result"
    }
   ],
   "source": [
    "import cv2\n",
    "import numpy as np\n",
    "\n",
    "# 마우스로 자유곡선을 그리는 함수\n",
    "def draw_poly(event, x, y, flags, param):\n",
    "    global points, draw_poly_flag\n",
    "    if event == cv2.EVENT_LBUTTONDOWN:\n",
    "        if not draw_poly_flag:\n",
    "            points = [(x, y)]\n",
    "            draw_poly_flag = True\n",
    "        else:\n",
    "            points.append((x, y))\n",
    "    elif event == cv2.EVENT_RBUTTONDOWN:\n",
    "        draw_poly_flag = False\n",
    "\n",
    "# 이미지 파일 경로\n",
    "#img_path = 'your_image_path.jpg'\n",
    "\n",
    "# 이미지 읽기\n",
    "img = cv2.imread('cat.bmp')\n",
    "\n",
    "# 이미지 크기\n",
    "height, width = img.shape[:2]\n",
    "\n",
    "# 자유곡선 그리기\n",
    "points = []\n",
    "draw_poly_flag = False\n",
    "cv2.namedWindow('image')\n",
    "cv2.setMouseCallback('image', draw_poly)\n",
    "\n",
    "while True:\n",
    "    img_copy = img.copy()\n",
    "    if len(points) > 0:\n",
    "        cv2.polylines(img_copy, [np.array(points)], True, (0, 255, 0), 2)\n",
    "    cv2.imshow('image', img_copy)\n",
    "    key = cv2.waitKey(1)\n",
    "    if key == ord('q'):\n",
    "        break\n",
    "\n",
    "cv2.destroyAllWindows()\n",
    "\n",
    "# 마스킹 이미지 생성\n",
    "mask = np.zeros((height, width), dtype=np.uint8)\n",
    "if len(points) > 0:\n",
    "    roi_corners = np.array([points], dtype=np.int32)\n",
    "    cv2.fillPoly(mask, roi_corners, 255)\n",
    "\n",
    "# 자유곡선으로 crop된 이미지 저장\n",
    "masked_img = cv2.bitwise_and(img, img, mask=mask)\n",
    "cv2.imwrite('masked_image.jpg', masked_img)\n",
    "\n",
    "# 완성된 사각형 부분 이미지 저장\n",
    "rect = cv2.boundingRect(roi_corners)\n",
    "x, y, w, h = rect\n",
    "cropped_img = img[y:y+h, x:x+w]\n",
    "cv2.imwrite('cropped_image.jpg', cropped_img)\n"
   ]
  }
 ],
 "metadata": {
  "kernelspec": {
   "display_name": "Python 3",
   "language": "python",
   "name": "python3"
  },
  "language_info": {
   "codemirror_mode": {
    "name": "ipython",
    "version": 3
   },
   "file_extension": ".py",
   "mimetype": "text/x-python",
   "name": "python",
   "nbconvert_exporter": "python",
   "pygments_lexer": "ipython3",
   "version": "3.11.3"
  },
  "orig_nbformat": 4
 },
 "nbformat": 4,
 "nbformat_minor": 2
}
