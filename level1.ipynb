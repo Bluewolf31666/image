{
 "cells": [
  {
   "attachments": {},
   "cell_type": "markdown",
   "metadata": {},
   "source": [
    "### 문제: 마우스로 사각형을 그려서 crop하여 저장해보자"
   ]
  },
  {
   "attachments": {},
   "cell_type": "markdown",
   "metadata": {},
   "source": [
    "### 가장 간단하게 구현\n",
    "```\n",
    "참고 사이트: \"https://inhovation97.tistory.com/57\"\n",
    "```"
   ]
  },
  {
   "cell_type": "code",
   "execution_count": null,
   "metadata": {},
   "outputs": [],
   "source": [
    "import cv2, numpy as np\n",
    "\n",
    "img = cv2.imread('cat.bmp')\n",
    "\n",
    "x,y,w,h = cv2.selectROI('img', img, False)\n",
    "if w and h:\n",
    "    roi = img[y:y+h, x:x+w]\n",
    "    cv2.imshow('cropped', roi)                   # ROI 지정 영역을 새창으로 표시\n",
    "    cv2.moveWindow('cropped', 0, 0)              # 새창을 화면 측 상단으로 이동\n",
    "    cv2.imwrite('cropped2.jpg', roi)  # ROI 영역만 파일로 저장\n",
    "    \n",
    "cv2.imshow('img', img)\n",
    "cv2.waitKey(0)\n",
    "cv2.destroyAllWindows()"
   ]
  },
  {
   "attachments": {},
   "cell_type": "markdown",
   "metadata": {},
   "source": [
    "### 다른 방식으로 구현 + json저장하기\n",
    "```\n",
    "Callback 함수 응용+ 여러번 그리기 + 그린 좌표및 정보를 json에 저장\n",
    "```"
   ]
  },
  {
   "cell_type": "code",
   "execution_count": null,
   "metadata": {},
   "outputs": [],
   "source": [
    "import cv2\n",
    "import numpy as np\n",
    "from datetime import datetime\n",
    "import random\n",
    "import pandas as pd\n",
    "from functools import reduce\n",
    "isDragging = False                      # 마우스 드래그 상태 저장 \n",
    "x0, y0, w, h = -1,-1,-1,-1              # 영역 선택 좌표 저장\n",
    "blue, red = (135,206,235),(0,0,255)# 색상 값\n",
    "Data_frame=pd.DataFrame()\n",
    "\n",
    "\n",
    "def onMouse(event,x,y,flags,param):     # 마우스 이벤트 핸들 함수\n",
    "    global isDragging, x0, y0, img,Data_frame# 전역변수 참조\n",
    "    color=(random.randint(0,255),random.randint(0,255),random.randint(0,255))\n",
    "    time_value=str(datetime.now()).replace(\" \",\"\").replace(\".\",\"_\").replace(\":\",\"_\").replace(\"-\",\"_\")\n",
    "    type(color[0])\n",
    "    if event == cv2.EVENT_LBUTTONDOWN:  # 왼쪽 마우스 버튼 다운, 드래그 시작 \n",
    "        isDragging = True\n",
    "        x0 = x\n",
    "        y0 = y\n",
    "    elif event == cv2.EVENT_MOUSEMOVE:  # 마우스 움직임 \n",
    "        if isDragging:                  # 드래그 진행 중\n",
    "            img_draw = img.copy()       # 사각형 그림 표현을 위한 이미지 복제\n",
    "            cv2.rectangle(img_draw, (x0, y0), (x, y), color, 2) # 드래그 진행 영역 표시\n",
    "            cv2.imshow('img', img_draw) # 사각형 표시된 그림 화면 출력\n",
    "    elif event == cv2.EVENT_LBUTTONUP:  # 왼쪽 마우스 버튼 업 \n",
    "        if isDragging:                  # 드래그 중지\n",
    "            isDragging = False          \n",
    "            w = x - x0                  # 드래그 영역 폭 계산\n",
    "            h = y - y0                  # 드래그 영역 높이 계산\n",
    "            #print(\"x:%d, y:%d, w:%d, h:%d\" % (x0, y0, w, h))\n",
    "            if w > 0 and h > 0:         # 폭과 높이가 양수이면 드래그 방향이 옳음\n",
    "                img_draw = img.copy()   # 선택 영역에 사각형 그림을 표시할 이미지 복제\n",
    "                # 선택 영역 표시\n",
    "                cv2.rectangle(img_draw, (x0, y0), (x, y), color, 2) \n",
    "                cv2.imshow('img', img_draw) # 빨간 사각형 그려진 이미지 화면 출력\n",
    "                roi = img[y0:y0+h, x0:x0+w] # 원본 이미지에서 선택 영역만 ROI로 지정 \n",
    "                cv2.imshow('cropped', roi)  # ROI 지정 영역을 새창으로 표시\n",
    "                print(\"color : \",color)\n",
    "                data_new=pd.DataFrame([{'x1':x0,'x2':x0+w,'y1':y0,'y2':y0+h,'color_r':color[0],'color_g':color[1],'color_b':color[2]}])\n",
    "                Data_frame=Data_frame.append(data_new,ignore_index=True)\n",
    "                cv2.moveWindow('cropped', 0, 0) # 새창을 화면 좌측 상단에 이동\n",
    "                path_name=\"./\"+time_value+\".jpg\"# 저장할 파일이름\n",
    "                cv2.imwrite(path_name, roi)   # ROI 영역만 파일로 저장\n",
    "                print(\"finished\")\n",
    "            else:\n",
    "                cv2.imshow('img', img)  # 드래그 방향이 잘못된 경우 사각형 그림이 없는 원본 이미지 출력\n",
    "                print(\"Error: 좌측 상단에서 우측 하단으로 영역을 드래그 하세요.\")\n",
    "\n",
    "img = cv2.imread('cat.bmp')#파일명 입력\n",
    "cv2.imshow('img', img)\n",
    "cv2.setMouseCallback('img', onMouse) # 마우스 이벤트 등록\n",
    "while(1):\n",
    "    k = cv2.waitKey(1) & 0xFF\n",
    "    if k == ord('c'): #c를 누르는 순간 지금까지 그린 사각형들의 정보를 저장함. \n",
    "        cv2.destroyAllWindows()\n",
    "        print (Data_frame)\n",
    "        Data_frame.to_json('test.json',orient='table')\n",
    "        break"
   ]
  },
  {
   "attachments": {},
   "cell_type": "markdown",
   "metadata": {},
   "source": [
    "### 구현과정에서 생긴 에러"
   ]
  },
  {
   "attachments": {},
   "cell_type": "markdown",
   "metadata": {},
   "source": [
    "\n",
    "### datetime error\n",
    "```\n",
    "(base) PS D:\\image> py .\\image.py .\\cat.bmp\n",
    "Traceback (most recent call last):\n",
    "  File \"D:\\image\\image.py\", line 7, in <module>\n",
    "    time_value=datetime.now().strftime('%c').replace(\" \",\"\").replace(\".\",\"_\")\n",
    "module 'datetime' has no attribute 'now'\n",
    "```\n",
    "* datetime은 기본적으로 type, value가 따로 묶여서 저장된다. str으로 형변환 해주자"
   ]
  },
  {
   "attachments": {},
   "cell_type": "markdown",
   "metadata": {},
   "source": [
    "### name error\n",
    "```\n",
    "Traceback (most recent call last):\n",
    "  File \"D:\\image\\image.py\", line 76, in <module>\n",
    "    cv2.imwrite(name, roi)\n",
    "cv2.error: OpenCV(4.7.0) D:\\a\\opencv-python\\opencv-python\\opencv\\modules\\imgcodecs\\src\\loadsave.cpp:692: error: (-2:Unspecified error) could not find a writer for the specified extension in function 'cv::imwrite_'\n",
    "```\n",
    "* 구체적으로는 string형태와 확장자가 없어서 생긴 에러이다. 제목형태를 맞춰주자"
   ]
  },
  {
   "attachments": {},
   "cell_type": "markdown",
   "metadata": {},
   "source": [
    "### type error\n",
    "```\n",
    "UnboundLocalError                         Traceback (most recent call last)\n",
    "Cell In[21], line 15, in onMouse(event, x, y, flags, param)\n",
    "     13 color=(random.randint(0,255),random.randint(0,255),random.randint(0,255))\n",
    "     14 #print (color)\n",
    "---> 15 str =''.join(map(str,color))\n",
    "     16 if event == cv2.EVENT_LBUTTONDOWN:  # 왼쪽 마우스 버튼 다운, 드래그 시작 \n",
    "     17     isDragging = True\n",
    "\n",
    "UnboundLocalError: cannot access local variable 'str' where it is not associated with a value\n",
    "```\n",
    "* localvalue에 접근 할수 없는 에러이다\n",
    "* 정확히는 str 함수랑 변수명이 str로 같아서 생긴 에러이다."
   ]
  }
 ],
 "metadata": {
  "language_info": {
   "name": "python"
  },
  "orig_nbformat": 4
 },
 "nbformat": 4,
 "nbformat_minor": 2
}
