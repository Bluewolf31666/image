{
 "cells": [
  {
   "attachments": {},
   "cell_type": "markdown",
   "metadata": {},
   "source": [
    "### 문제2. 자유곡선을 그려서 crop 및 masking하기"
   ]
  },
  {
   "attachments": {},
   "cell_type": "markdown",
   "metadata": {},
   "source": [
    "### 우선 점을 연결해서 동형을 만들어서 crop 및 마스킹 하는 방식\n",
    "```\n",
    "다만, 곡선은 아니고 직선 형태로 구현한 코드이다.\n",
    "```"
   ]
  },
  {
   "cell_type": "code",
   "execution_count": null,
   "metadata": {},
   "outputs": [],
   "source": [
    "import cv2\n",
    "import numpy as np\n",
    "\n",
    "# 마우스로 자유곡선을 그리는 함수\n",
    "def draw_poly(event, x, y, flags, param):\n",
    "    global points, draw_poly_flag, img_copy\n",
    "    if event == cv2.EVENT_LBUTTONDOWN:\n",
    "        points = [(x, y)]\n",
    "        draw_poly_flag = True\n",
    "    elif event == cv2.EVENT_MOUSEMOVE:\n",
    "        if draw_poly_flag:\n",
    "            points.append((x, y))\n",
    "            cv2.line(img_copy, points[-2], points[-1], (0, 255, 0), 2)\n",
    "    elif event == cv2.EVENT_LBUTTONUP:\n",
    "        draw_poly_flag = False\n",
    "        if len(points) > 2:\n",
    "            # 부드러운 곡선 근사\n",
    "            epsilon = 0.1 * cv2.arcLength(np.array(points), True)\n",
    "            approx = cv2.approxPolyDP(np.array(points), epsilon, True)\n",
    "            # 곡선 그리기\n",
    "            cv2.polylines(img_copy, [approx], True, (0, 255, 0), 2)\n",
    "            # 자유곡선으로 crop된 이미지 저장\n",
    "            mask = np.zeros((height, width), dtype=np.uint8)\n",
    "            cv2.fillPoly(mask, [approx], 255)\n",
    "            masked_img = cv2.bitwise_and(img, img, mask=mask)\n",
    "            cv2.imwrite('masked_image.jpg', masked_img)\n",
    "            # 완성된 사각형 부분 이미지 저장\n",
    "            rect = cv2.boundingRect(approx)\n",
    "            x, y, w, h = rect\n",
    "            cropped_img = img[y:y+h, x:x+w]\n",
    "            cv2.imwrite('cropped_image.jpg', cropped_img)\n",
    "\n",
    "# 이미지 파일 경로\n",
    "img_path = 'cat.bmp'\n",
    "\n",
    "# 이미지 읽기\n",
    "img = cv2.imread(img_path)\n",
    "\n",
    "# 이미지 크기\n",
    "height, width = img.shape[:2]\n",
    "\n",
    "# 자유곡선 그리기\n",
    "points = []\n",
    "draw_poly_flag = False\n",
    "img_copy = img.copy()\n",
    "cv2.namedWindow('image')\n",
    "cv2.setMouseCallback('image', draw_poly)\n",
    "\n",
    "while True:\n",
    "    cv2.imshow('image', img_copy)\n",
    "    key = cv2.waitKey(1)\n",
    "    if key == ord('q'):\n",
    "        break\n",
    "\n",
    "cv2.destroyAllWindows()"
   ]
  },
  {
   "attachments": {},
   "cell_type": "markdown",
   "metadata": {},
   "source": [
    "### 자유곡선은 그렸지만, 최적의 외각 사각형은 만들지 못한 코드\n",
    "```\n",
    "이거 관련해서는 문서나 기존 코드를 변형해야할 필요가 있다\n",
    "```"
   ]
  },
  {
   "cell_type": "code",
   "execution_count": null,
   "metadata": {},
   "outputs": [],
   "source": [
    "import cv2\n",
    "import numpy as np\n",
    "\n",
    "# 마우스로 자유곡선을 그리는 함수\n",
    "def draw_poly(event, x, y, flags, param):\n",
    "    global points, draw_poly_flag, img_copy\n",
    "    if event == cv2.EVENT_LBUTTONDOWN:\n",
    "        points = [(x, y)]\n",
    "        draw_poly_flag = True\n",
    "    elif event == cv2.EVENT_MOUSEMOVE:\n",
    "        if draw_poly_flag:\n",
    "            points.append((x, y))\n",
    "            cv2.line(img_copy, points[-2], points[-1], (0, 255, 0), 2)\n",
    "    elif event == cv2.EVENT_LBUTTONUP:\n",
    "        draw_poly_flag = False\n",
    "        if len(points) > 2:\n",
    "            # 부드러운 곡선 근사\n",
    "            epsilon = 0.1 * cv2.arcLength(np.array(points), True)\n",
    "            approx = cv2.approxPolyDP(np.array(points), epsilon, True)\n",
    "            # 곡선 그리기\n",
    "            cv2.polylines(img_copy, [approx], True, (0, 255, 0), 2)\n",
    "            # 자유곡선을 따라 crop\n",
    "            mask = np.zeros((height, width), dtype=np.uint8)\n",
    "            cv2.fillPoly(mask, [approx], 255)\n",
    "            masked_img = cv2.bitwise_and(img, img, mask=mask)\n",
    "            x, y, w, h = cv2.boundingRect(np.array(points))\n",
    "            cropped_img = masked_img[y:y+h, x:x+w]\n",
    "            cv2.imwrite('cropped_image.jpg', cropped_img)\n",
    "            # 자유곡선으로 crop된 이미지 저장\n",
    "            cv2.imwrite('masked_image.jpg', masked_img)\n",
    "\n",
    "# 이미지 파일 경로\n",
    "img_path = 'cat.bmp'\n",
    "\n",
    "# 이미지 읽기\n",
    "img = cv2.imread(img_path)\n",
    "\n",
    "# 이미지 크기\n",
    "height, width = img.shape[:2]\n",
    "\n",
    "# 자유곡선 그리기\n",
    "points = []\n",
    "draw_poly_flag = False\n",
    "img_copy = img.copy()\n",
    "cv2.namedWindow('image')\n",
    "cv2.setMouseCallback('image', draw_poly)\n",
    "\n",
    "while True:\n",
    "    cv2.imshow('image', img_copy)\n",
    "    key = cv2.waitKey(1)\n",
    "    if key == ord('q'):\n",
    "        break\n",
    "\n",
    "cv2.destroyAllWindows()"
   ]
  },
  {
   "attachments": {},
   "cell_type": "markdown",
   "metadata": {},
   "source": [
    "### 생긴 에러"
   ]
  },
  {
   "attachments": {},
   "cell_type": "markdown",
   "metadata": {},
   "source": [
    "\n",
    "### 응답없음\n",
    "```\n",
    "입력이미지 변수명문제이거나 그 그림 위치나 크기관련해서 넣는 변수를 다시 생각해보자.. ex) [:,1]\n",
    "```"
   ]
  }
 ],
 "metadata": {
  "language_info": {
   "name": "python"
  },
  "orig_nbformat": 4
 },
 "nbformat": 4,
 "nbformat_minor": 2
}
